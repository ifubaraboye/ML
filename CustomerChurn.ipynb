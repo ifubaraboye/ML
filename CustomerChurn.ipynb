{
 "cells": [
  {
   "cell_type": "markdown",
   "id": "d717a928",
   "metadata": {},
   "source": [
    "# Custormer Churn Machine Learning Project"
   ]
  },
  {
   "cell_type": "markdown",
   "id": "d4581b97",
   "metadata": {},
   "source": [
    "\n",
    "---\n",
    "\n",
    "## Dataset Overview & Features <a id=\"dataset-overview--features\"></a>\n",
    "\n",
    "This dataset provides insights into customer profiles and subscription patterns.\n",
    "Each record represents one customer and includes features such as tenure, payment method, and contract type that influence customer retention.\n",
    "\n",
    "### Features\n",
    "\n",
    "| Feature            | Description                                                                  |\n",
    "| ------------------ | ---------------------------------------------------------------------------- |\n",
    "| **CustomerID**     | Unique identifier assigned to each customer.                                 |\n",
    "| **Gender**         | Customer gender (Male/Female).                                               |\n",
    "| **Age**            | Age of the customer (in years).                                              |\n",
    "| **Geography**      | Country or region where the customer resides (France, Spain, Germany, etc.). |\n",
    "| **Tenure**         | Number of months or years the customer has been with the company.            |\n",
    "| **Contract**       | Type of contract (Month-to-month, One-year, Two-year).                       |\n",
    "| **MonthlyCharges** | The amount billed to the customer each month.                                |\n",
    "| **TotalCharges**   | The total amount billed to the customer over their entire tenure.            |\n",
    "| **PaymentMethod**  | Method of payment (Credit card, Bank transfer, Direct debit, etc.).          |\n",
    "| **IsActiveMember** | Indicates if the customer is actively engaged (1 = Active, 0 = Inactive).    |\n",
    "| **Churn**          | Target variable indicating whether the customer left the service (Yes/No).   |\n",
    "\n",
    "---\n",
    "\n",
    "## Target Variable\n",
    "\n",
    "**Churn** — The categorical target variable indicating customer retention.\n",
    "\n",
    "| Class   | Description                                      |\n",
    "| ------- | ------------------------------------------------ |\n",
    "| **Yes** | Customer has discontinued the service (churned). |\n",
    "| **No**  | Customer continues using the service (retained). |\n",
    "\n",
    "---\n",
    "\n",
    "---\n",
    "\n",
    "## Goal\n",
    "\n",
    "To develop a **machine learning model** capable of predicting **customer churn** using demographic, financial, and behavioral features.\n",
    "The model aims to help businesses identify at-risk customers and implement retention strategies proactively.\n",
    "\n",
    "---"
   ]
  },
  {
   "cell_type": "code",
   "execution_count": 1,
   "id": "f0620fdc",
   "metadata": {},
   "outputs": [],
   "source": [
    "#import libraries\n",
    "import numpy as np\n",
    "import pandas as pd\n",
    "import matplotlib.pyplot as plt\n",
    "from sklearn.linear_model import LogisticRegression\n",
    "from sklearn.model_selection import train_test_split\n",
    "from sklearn.metrics import log_loss\n",
    "from sklearn.preprocessing import StandardScaler \n",
    "from sklearn.pipeline import Pipeline"
   ]
  },
  {
   "cell_type": "markdown",
   "id": "0a158de0",
   "metadata": {},
   "source": [
    "## Libraries Imported"
   ]
  },
  {
   "cell_type": "markdown",
   "id": "fdaf195f",
   "metadata": {},
   "source": [
    "## Data Loading and Structure"
   ]
  },
  {
   "cell_type": "code",
   "execution_count": 2,
   "id": "2d48b6e4",
   "metadata": {},
   "outputs": [
    {
     "data": {
      "text/html": [
       "<div>\n",
       "<style scoped>\n",
       "    .dataframe tbody tr th:only-of-type {\n",
       "        vertical-align: middle;\n",
       "    }\n",
       "\n",
       "    .dataframe tbody tr th {\n",
       "        vertical-align: top;\n",
       "    }\n",
       "\n",
       "    .dataframe thead th {\n",
       "        text-align: right;\n",
       "    }\n",
       "</style>\n",
       "<table border=\"1\" class=\"dataframe\">\n",
       "  <thead>\n",
       "    <tr style=\"text-align: right;\">\n",
       "      <th></th>\n",
       "      <th>CustomerID</th>\n",
       "      <th>Gender</th>\n",
       "      <th>Age</th>\n",
       "      <th>Geography</th>\n",
       "      <th>Tenure</th>\n",
       "      <th>Contract</th>\n",
       "      <th>MonthlyCharges</th>\n",
       "      <th>TotalCharges</th>\n",
       "      <th>PaymentMethod</th>\n",
       "      <th>IsActiveMember</th>\n",
       "      <th>Churn</th>\n",
       "    </tr>\n",
       "  </thead>\n",
       "  <tbody>\n",
       "    <tr>\n",
       "      <th>0</th>\n",
       "      <td>1000001</td>\n",
       "      <td>Male</td>\n",
       "      <td>34</td>\n",
       "      <td>France</td>\n",
       "      <td>14</td>\n",
       "      <td>Two-year</td>\n",
       "      <td>21.58</td>\n",
       "      <td>7933.34</td>\n",
       "      <td>Bank transfer</td>\n",
       "      <td>1</td>\n",
       "      <td>No</td>\n",
       "    </tr>\n",
       "    <tr>\n",
       "      <th>1</th>\n",
       "      <td>1000002</td>\n",
       "      <td>Female</td>\n",
       "      <td>26</td>\n",
       "      <td>Spain</td>\n",
       "      <td>14</td>\n",
       "      <td>Month-to-month</td>\n",
       "      <td>27.71</td>\n",
       "      <td>5869.34</td>\n",
       "      <td>Credit card</td>\n",
       "      <td>0</td>\n",
       "      <td>Yes</td>\n",
       "    </tr>\n",
       "    <tr>\n",
       "      <th>2</th>\n",
       "      <td>1000003</td>\n",
       "      <td>Male</td>\n",
       "      <td>50</td>\n",
       "      <td>Germany</td>\n",
       "      <td>57</td>\n",
       "      <td>Two-year</td>\n",
       "      <td>111.12</td>\n",
       "      <td>6321.20</td>\n",
       "      <td>Bank transfer</td>\n",
       "      <td>1</td>\n",
       "      <td>No</td>\n",
       "    </tr>\n",
       "    <tr>\n",
       "      <th>3</th>\n",
       "      <td>1000004</td>\n",
       "      <td>Male</td>\n",
       "      <td>37</td>\n",
       "      <td>Spain</td>\n",
       "      <td>34</td>\n",
       "      <td>Month-to-month</td>\n",
       "      <td>55.49</td>\n",
       "      <td>7956.44</td>\n",
       "      <td>Bank transfer</td>\n",
       "      <td>0</td>\n",
       "      <td>Yes</td>\n",
       "    </tr>\n",
       "    <tr>\n",
       "      <th>4</th>\n",
       "      <td>1000005</td>\n",
       "      <td>Male</td>\n",
       "      <td>30</td>\n",
       "      <td>Spain</td>\n",
       "      <td>53</td>\n",
       "      <td>Two-year</td>\n",
       "      <td>62.48</td>\n",
       "      <td>4922.75</td>\n",
       "      <td>Direct debit</td>\n",
       "      <td>1</td>\n",
       "      <td>No</td>\n",
       "    </tr>\n",
       "  </tbody>\n",
       "</table>\n",
       "</div>"
      ],
      "text/plain": [
       "   CustomerID  Gender  Age Geography  Tenure        Contract  MonthlyCharges  \\\n",
       "0     1000001    Male   34    France      14        Two-year           21.58   \n",
       "1     1000002  Female   26     Spain      14  Month-to-month           27.71   \n",
       "2     1000003    Male   50   Germany      57        Two-year          111.12   \n",
       "3     1000004    Male   37     Spain      34  Month-to-month           55.49   \n",
       "4     1000005    Male   30     Spain      53        Two-year           62.48   \n",
       "\n",
       "   TotalCharges  PaymentMethod  IsActiveMember Churn  \n",
       "0       7933.34  Bank transfer               1    No  \n",
       "1       5869.34    Credit card               0   Yes  \n",
       "2       6321.20  Bank transfer               1    No  \n",
       "3       7956.44  Bank transfer               0   Yes  \n",
       "4       4922.75   Direct debit               1    No  "
      ]
     },
     "execution_count": 2,
     "metadata": {},
     "output_type": "execute_result"
    }
   ],
   "source": [
    "df = pd.read_csv('Large_Customer_Churn_Dataset.csv')\n",
    "df.head()"
   ]
  },
  {
   "cell_type": "code",
   "execution_count": 3,
   "id": "a6c97323",
   "metadata": {},
   "outputs": [
    {
     "data": {
      "text/plain": [
       "(1000, 11)"
      ]
     },
     "execution_count": 3,
     "metadata": {},
     "output_type": "execute_result"
    }
   ],
   "source": [
    "df.shape"
   ]
  },
  {
   "cell_type": "code",
   "execution_count": 4,
   "id": "291fc316",
   "metadata": {},
   "outputs": [
    {
     "name": "stdout",
     "output_type": "stream",
     "text": [
      "<class 'pandas.core.frame.DataFrame'>\n",
      "RangeIndex: 1000 entries, 0 to 999\n",
      "Data columns (total 11 columns):\n",
      " #   Column          Non-Null Count  Dtype  \n",
      "---  ------          --------------  -----  \n",
      " 0   CustomerID      1000 non-null   int64  \n",
      " 1   Gender          1000 non-null   object \n",
      " 2   Age             1000 non-null   int64  \n",
      " 3   Geography       1000 non-null   object \n",
      " 4   Tenure          1000 non-null   int64  \n",
      " 5   Contract        1000 non-null   object \n",
      " 6   MonthlyCharges  1000 non-null   float64\n",
      " 7   TotalCharges    1000 non-null   float64\n",
      " 8   PaymentMethod   1000 non-null   object \n",
      " 9   IsActiveMember  1000 non-null   int64  \n",
      " 10  Churn           1000 non-null   object \n",
      "dtypes: float64(2), int64(4), object(5)\n",
      "memory usage: 86.1+ KB\n"
     ]
    }
   ],
   "source": [
    "df.info()"
   ]
  },
  {
   "cell_type": "code",
   "execution_count": 5,
   "id": "2b4343d3",
   "metadata": {},
   "outputs": [
    {
     "data": {
      "text/plain": [
       "CustomerID        0\n",
       "Gender            0\n",
       "Age               0\n",
       "Geography         0\n",
       "Tenure            0\n",
       "Contract          0\n",
       "MonthlyCharges    0\n",
       "TotalCharges      0\n",
       "PaymentMethod     0\n",
       "IsActiveMember    0\n",
       "Churn             0\n",
       "dtype: int64"
      ]
     },
     "execution_count": 5,
     "metadata": {},
     "output_type": "execute_result"
    }
   ],
   "source": [
    "df.isna().sum()"
   ]
  },
  {
   "cell_type": "markdown",
   "id": "1c851dd7",
   "metadata": {},
   "source": [
    "### No missing values found"
   ]
  },
  {
   "cell_type": "markdown",
   "id": "48fc9ba4",
   "metadata": {},
   "source": [
    "# Data Standardization"
   ]
  },
  {
   "cell_type": "code",
   "execution_count": 6,
   "id": "0defb790",
   "metadata": {},
   "outputs": [],
   "source": [
    "#Data Standardization Uinsg Dummny Variables\n",
    "dummy_variables = pd.get_dummies(df['Churn'], drop_first=True)\n",
    "df['Churn'] = df['Churn'].map({'Yes': 1, 'No': 0})\n"
   ]
  },
  {
   "cell_type": "code",
   "execution_count": 8,
   "id": "4dd7c4ce",
   "metadata": {},
   "outputs": [
    {
     "data": {
      "text/plain": [
       "Contract\n",
       "Month-to-month    352\n",
       "Two-year          336\n",
       "One-year          312\n",
       "Name: count, dtype: int64"
      ]
     },
     "execution_count": 8,
     "metadata": {},
     "output_type": "execute_result"
    }
   ],
   "source": [
    "df['Contract'].value_counts()"
   ]
  },
  {
   "cell_type": "code",
   "execution_count": 9,
   "id": "8cf6e4fb",
   "metadata": {},
   "outputs": [],
   "source": [
    "df['Contract'] = df['Contract'].map({\n",
    "    'Month-to-month': 1,\n",
    "    'One-year': 12,\n",
    "    'Two-year': 24\n",
    "})"
   ]
  },
  {
   "cell_type": "code",
   "execution_count": 10,
   "id": "5831d480",
   "metadata": {},
   "outputs": [
    {
     "data": {
      "text/html": [
       "<div>\n",
       "<style scoped>\n",
       "    .dataframe tbody tr th:only-of-type {\n",
       "        vertical-align: middle;\n",
       "    }\n",
       "\n",
       "    .dataframe tbody tr th {\n",
       "        vertical-align: top;\n",
       "    }\n",
       "\n",
       "    .dataframe thead th {\n",
       "        text-align: right;\n",
       "    }\n",
       "</style>\n",
       "<table border=\"1\" class=\"dataframe\">\n",
       "  <thead>\n",
       "    <tr style=\"text-align: right;\">\n",
       "      <th></th>\n",
       "      <th>CustomerID</th>\n",
       "      <th>Gender</th>\n",
       "      <th>Age</th>\n",
       "      <th>Geography</th>\n",
       "      <th>Tenure</th>\n",
       "      <th>Contract</th>\n",
       "      <th>MonthlyCharges</th>\n",
       "      <th>TotalCharges</th>\n",
       "      <th>PaymentMethod</th>\n",
       "      <th>IsActiveMember</th>\n",
       "      <th>Churn</th>\n",
       "    </tr>\n",
       "  </thead>\n",
       "  <tbody>\n",
       "    <tr>\n",
       "      <th>0</th>\n",
       "      <td>1000001</td>\n",
       "      <td>Male</td>\n",
       "      <td>34</td>\n",
       "      <td>France</td>\n",
       "      <td>14</td>\n",
       "      <td>24</td>\n",
       "      <td>21.58</td>\n",
       "      <td>7933.34</td>\n",
       "      <td>Bank transfer</td>\n",
       "      <td>1</td>\n",
       "      <td>0</td>\n",
       "    </tr>\n",
       "    <tr>\n",
       "      <th>1</th>\n",
       "      <td>1000002</td>\n",
       "      <td>Female</td>\n",
       "      <td>26</td>\n",
       "      <td>Spain</td>\n",
       "      <td>14</td>\n",
       "      <td>1</td>\n",
       "      <td>27.71</td>\n",
       "      <td>5869.34</td>\n",
       "      <td>Credit card</td>\n",
       "      <td>0</td>\n",
       "      <td>1</td>\n",
       "    </tr>\n",
       "    <tr>\n",
       "      <th>2</th>\n",
       "      <td>1000003</td>\n",
       "      <td>Male</td>\n",
       "      <td>50</td>\n",
       "      <td>Germany</td>\n",
       "      <td>57</td>\n",
       "      <td>24</td>\n",
       "      <td>111.12</td>\n",
       "      <td>6321.20</td>\n",
       "      <td>Bank transfer</td>\n",
       "      <td>1</td>\n",
       "      <td>0</td>\n",
       "    </tr>\n",
       "    <tr>\n",
       "      <th>3</th>\n",
       "      <td>1000004</td>\n",
       "      <td>Male</td>\n",
       "      <td>37</td>\n",
       "      <td>Spain</td>\n",
       "      <td>34</td>\n",
       "      <td>1</td>\n",
       "      <td>55.49</td>\n",
       "      <td>7956.44</td>\n",
       "      <td>Bank transfer</td>\n",
       "      <td>0</td>\n",
       "      <td>1</td>\n",
       "    </tr>\n",
       "    <tr>\n",
       "      <th>4</th>\n",
       "      <td>1000005</td>\n",
       "      <td>Male</td>\n",
       "      <td>30</td>\n",
       "      <td>Spain</td>\n",
       "      <td>53</td>\n",
       "      <td>24</td>\n",
       "      <td>62.48</td>\n",
       "      <td>4922.75</td>\n",
       "      <td>Direct debit</td>\n",
       "      <td>1</td>\n",
       "      <td>0</td>\n",
       "    </tr>\n",
       "    <tr>\n",
       "      <th>...</th>\n",
       "      <td>...</td>\n",
       "      <td>...</td>\n",
       "      <td>...</td>\n",
       "      <td>...</td>\n",
       "      <td>...</td>\n",
       "      <td>...</td>\n",
       "      <td>...</td>\n",
       "      <td>...</td>\n",
       "      <td>...</td>\n",
       "      <td>...</td>\n",
       "      <td>...</td>\n",
       "    </tr>\n",
       "    <tr>\n",
       "      <th>995</th>\n",
       "      <td>1000996</td>\n",
       "      <td>Male</td>\n",
       "      <td>42</td>\n",
       "      <td>France</td>\n",
       "      <td>44</td>\n",
       "      <td>24</td>\n",
       "      <td>32.75</td>\n",
       "      <td>6815.82</td>\n",
       "      <td>Bank transfer</td>\n",
       "      <td>1</td>\n",
       "      <td>1</td>\n",
       "    </tr>\n",
       "    <tr>\n",
       "      <th>996</th>\n",
       "      <td>1000997</td>\n",
       "      <td>Male</td>\n",
       "      <td>26</td>\n",
       "      <td>France</td>\n",
       "      <td>21</td>\n",
       "      <td>24</td>\n",
       "      <td>100.02</td>\n",
       "      <td>5544.36</td>\n",
       "      <td>Credit card</td>\n",
       "      <td>1</td>\n",
       "      <td>1</td>\n",
       "    </tr>\n",
       "    <tr>\n",
       "      <th>997</th>\n",
       "      <td>1000998</td>\n",
       "      <td>Female</td>\n",
       "      <td>21</td>\n",
       "      <td>France</td>\n",
       "      <td>44</td>\n",
       "      <td>24</td>\n",
       "      <td>106.30</td>\n",
       "      <td>2462.34</td>\n",
       "      <td>Credit card</td>\n",
       "      <td>1</td>\n",
       "      <td>0</td>\n",
       "    </tr>\n",
       "    <tr>\n",
       "      <th>998</th>\n",
       "      <td>1000999</td>\n",
       "      <td>Female</td>\n",
       "      <td>31</td>\n",
       "      <td>Italy</td>\n",
       "      <td>11</td>\n",
       "      <td>1</td>\n",
       "      <td>35.07</td>\n",
       "      <td>1771.42</td>\n",
       "      <td>Electronic check</td>\n",
       "      <td>1</td>\n",
       "      <td>0</td>\n",
       "    </tr>\n",
       "    <tr>\n",
       "      <th>999</th>\n",
       "      <td>1001000</td>\n",
       "      <td>Male</td>\n",
       "      <td>54</td>\n",
       "      <td>Germany</td>\n",
       "      <td>39</td>\n",
       "      <td>1</td>\n",
       "      <td>105.16</td>\n",
       "      <td>2268.63</td>\n",
       "      <td>Bank transfer</td>\n",
       "      <td>1</td>\n",
       "      <td>1</td>\n",
       "    </tr>\n",
       "  </tbody>\n",
       "</table>\n",
       "<p>1000 rows × 11 columns</p>\n",
       "</div>"
      ],
      "text/plain": [
       "     CustomerID  Gender  Age Geography  Tenure  Contract  MonthlyCharges  \\\n",
       "0       1000001    Male   34    France      14        24           21.58   \n",
       "1       1000002  Female   26     Spain      14         1           27.71   \n",
       "2       1000003    Male   50   Germany      57        24          111.12   \n",
       "3       1000004    Male   37     Spain      34         1           55.49   \n",
       "4       1000005    Male   30     Spain      53        24           62.48   \n",
       "..          ...     ...  ...       ...     ...       ...             ...   \n",
       "995     1000996    Male   42    France      44        24           32.75   \n",
       "996     1000997    Male   26    France      21        24          100.02   \n",
       "997     1000998  Female   21    France      44        24          106.30   \n",
       "998     1000999  Female   31     Italy      11         1           35.07   \n",
       "999     1001000    Male   54   Germany      39         1          105.16   \n",
       "\n",
       "     TotalCharges     PaymentMethod  IsActiveMember  Churn  \n",
       "0         7933.34     Bank transfer               1      0  \n",
       "1         5869.34       Credit card               0      1  \n",
       "2         6321.20     Bank transfer               1      0  \n",
       "3         7956.44     Bank transfer               0      1  \n",
       "4         4922.75      Direct debit               1      0  \n",
       "..            ...               ...             ...    ...  \n",
       "995       6815.82     Bank transfer               1      1  \n",
       "996       5544.36       Credit card               1      1  \n",
       "997       2462.34       Credit card               1      0  \n",
       "998       1771.42  Electronic check               1      0  \n",
       "999       2268.63     Bank transfer               1      1  \n",
       "\n",
       "[1000 rows x 11 columns]"
      ]
     },
     "execution_count": 10,
     "metadata": {},
     "output_type": "execute_result"
    }
   ],
   "source": [
    "df"
   ]
  },
  {
   "cell_type": "code",
   "execution_count": 11,
   "id": "c103a92f",
   "metadata": {},
   "outputs": [],
   "source": [
    "dummy_variables = pd.get_dummies(df['Gender'], drop_first=True)\n",
    "df['Gender'] = df['Gender'].map({'Male': 1, 'Female': 0})"
   ]
  },
  {
   "cell_type": "code",
   "execution_count": 12,
   "id": "7c6c82b9",
   "metadata": {},
   "outputs": [
    {
     "data": {
      "text/html": [
       "<div>\n",
       "<style scoped>\n",
       "    .dataframe tbody tr th:only-of-type {\n",
       "        vertical-align: middle;\n",
       "    }\n",
       "\n",
       "    .dataframe tbody tr th {\n",
       "        vertical-align: top;\n",
       "    }\n",
       "\n",
       "    .dataframe thead th {\n",
       "        text-align: right;\n",
       "    }\n",
       "</style>\n",
       "<table border=\"1\" class=\"dataframe\">\n",
       "  <thead>\n",
       "    <tr style=\"text-align: right;\">\n",
       "      <th></th>\n",
       "      <th>Age</th>\n",
       "      <th>Tenure</th>\n",
       "      <th>Contract</th>\n",
       "      <th>MonthlyCharges</th>\n",
       "      <th>TotalCharges</th>\n",
       "      <th>IsActiveMember</th>\n",
       "      <th>Churn</th>\n",
       "    </tr>\n",
       "  </thead>\n",
       "  <tbody>\n",
       "    <tr>\n",
       "      <th>0</th>\n",
       "      <td>34</td>\n",
       "      <td>14</td>\n",
       "      <td>24</td>\n",
       "      <td>21.58</td>\n",
       "      <td>7933.34</td>\n",
       "      <td>1</td>\n",
       "      <td>0</td>\n",
       "    </tr>\n",
       "    <tr>\n",
       "      <th>1</th>\n",
       "      <td>26</td>\n",
       "      <td>14</td>\n",
       "      <td>1</td>\n",
       "      <td>27.71</td>\n",
       "      <td>5869.34</td>\n",
       "      <td>0</td>\n",
       "      <td>1</td>\n",
       "    </tr>\n",
       "    <tr>\n",
       "      <th>2</th>\n",
       "      <td>50</td>\n",
       "      <td>57</td>\n",
       "      <td>24</td>\n",
       "      <td>111.12</td>\n",
       "      <td>6321.20</td>\n",
       "      <td>1</td>\n",
       "      <td>0</td>\n",
       "    </tr>\n",
       "    <tr>\n",
       "      <th>3</th>\n",
       "      <td>37</td>\n",
       "      <td>34</td>\n",
       "      <td>1</td>\n",
       "      <td>55.49</td>\n",
       "      <td>7956.44</td>\n",
       "      <td>0</td>\n",
       "      <td>1</td>\n",
       "    </tr>\n",
       "    <tr>\n",
       "      <th>4</th>\n",
       "      <td>30</td>\n",
       "      <td>53</td>\n",
       "      <td>24</td>\n",
       "      <td>62.48</td>\n",
       "      <td>4922.75</td>\n",
       "      <td>1</td>\n",
       "      <td>0</td>\n",
       "    </tr>\n",
       "    <tr>\n",
       "      <th>...</th>\n",
       "      <td>...</td>\n",
       "      <td>...</td>\n",
       "      <td>...</td>\n",
       "      <td>...</td>\n",
       "      <td>...</td>\n",
       "      <td>...</td>\n",
       "      <td>...</td>\n",
       "    </tr>\n",
       "    <tr>\n",
       "      <th>995</th>\n",
       "      <td>42</td>\n",
       "      <td>44</td>\n",
       "      <td>24</td>\n",
       "      <td>32.75</td>\n",
       "      <td>6815.82</td>\n",
       "      <td>1</td>\n",
       "      <td>1</td>\n",
       "    </tr>\n",
       "    <tr>\n",
       "      <th>996</th>\n",
       "      <td>26</td>\n",
       "      <td>21</td>\n",
       "      <td>24</td>\n",
       "      <td>100.02</td>\n",
       "      <td>5544.36</td>\n",
       "      <td>1</td>\n",
       "      <td>1</td>\n",
       "    </tr>\n",
       "    <tr>\n",
       "      <th>997</th>\n",
       "      <td>21</td>\n",
       "      <td>44</td>\n",
       "      <td>24</td>\n",
       "      <td>106.30</td>\n",
       "      <td>2462.34</td>\n",
       "      <td>1</td>\n",
       "      <td>0</td>\n",
       "    </tr>\n",
       "    <tr>\n",
       "      <th>998</th>\n",
       "      <td>31</td>\n",
       "      <td>11</td>\n",
       "      <td>1</td>\n",
       "      <td>35.07</td>\n",
       "      <td>1771.42</td>\n",
       "      <td>1</td>\n",
       "      <td>0</td>\n",
       "    </tr>\n",
       "    <tr>\n",
       "      <th>999</th>\n",
       "      <td>54</td>\n",
       "      <td>39</td>\n",
       "      <td>1</td>\n",
       "      <td>105.16</td>\n",
       "      <td>2268.63</td>\n",
       "      <td>1</td>\n",
       "      <td>1</td>\n",
       "    </tr>\n",
       "  </tbody>\n",
       "</table>\n",
       "<p>1000 rows × 7 columns</p>\n",
       "</div>"
      ],
      "text/plain": [
       "     Age  Tenure  Contract  MonthlyCharges  TotalCharges  IsActiveMember  \\\n",
       "0     34      14        24           21.58       7933.34               1   \n",
       "1     26      14         1           27.71       5869.34               0   \n",
       "2     50      57        24          111.12       6321.20               1   \n",
       "3     37      34         1           55.49       7956.44               0   \n",
       "4     30      53        24           62.48       4922.75               1   \n",
       "..   ...     ...       ...             ...           ...             ...   \n",
       "995   42      44        24           32.75       6815.82               1   \n",
       "996   26      21        24          100.02       5544.36               1   \n",
       "997   21      44        24          106.30       2462.34               1   \n",
       "998   31      11         1           35.07       1771.42               1   \n",
       "999   54      39         1          105.16       2268.63               1   \n",
       "\n",
       "     Churn  \n",
       "0        0  \n",
       "1        1  \n",
       "2        0  \n",
       "3        1  \n",
       "4        0  \n",
       "..     ...  \n",
       "995      1  \n",
       "996      1  \n",
       "997      0  \n",
       "998      0  \n",
       "999      1  \n",
       "\n",
       "[1000 rows x 7 columns]"
      ]
     },
     "execution_count": 12,
     "metadata": {},
     "output_type": "execute_result"
    }
   ],
   "source": [
    "df = df[['Age', 'Tenure', 'Contract', 'MonthlyCharges', 'TotalCharges', 'IsActiveMember', 'Churn']]\n",
    "df"
   ]
  },
  {
   "cell_type": "markdown",
   "id": "7169991e",
   "metadata": {},
   "source": [
    "## Dataset Preparation"
   ]
  },
  {
   "cell_type": "code",
   "execution_count": 13,
   "id": "2155357e",
   "metadata": {},
   "outputs": [
    {
     "data": {
      "text/plain": [
       "array([[3.40000e+01, 1.40000e+01, 2.40000e+01, 2.15800e+01, 7.93334e+03,\n",
       "        1.00000e+00],\n",
       "       [2.60000e+01, 1.40000e+01, 1.00000e+00, 2.77100e+01, 5.86934e+03,\n",
       "        0.00000e+00],\n",
       "       [5.00000e+01, 5.70000e+01, 2.40000e+01, 1.11120e+02, 6.32120e+03,\n",
       "        1.00000e+00],\n",
       "       [3.70000e+01, 3.40000e+01, 1.00000e+00, 5.54900e+01, 7.95644e+03,\n",
       "        0.00000e+00],\n",
       "       [3.00000e+01, 5.30000e+01, 2.40000e+01, 6.24800e+01, 4.92275e+03,\n",
       "        1.00000e+00]])"
      ]
     },
     "execution_count": 13,
     "metadata": {},
     "output_type": "execute_result"
    }
   ],
   "source": [
    "X = np.asarray(df[['Age', 'Tenure', 'Contract', 'MonthlyCharges', 'TotalCharges', 'IsActiveMember']])\n",
    "X[0:5]"
   ]
  },
  {
   "cell_type": "code",
   "execution_count": 14,
   "id": "3484a778",
   "metadata": {},
   "outputs": [
    {
     "data": {
      "text/plain": [
       "array([0, 1, 0, 1, 0])"
      ]
     },
     "execution_count": 14,
     "metadata": {},
     "output_type": "execute_result"
    }
   ],
   "source": [
    "y = np.asarray(df['Churn'])\n",
    "y[0:5]"
   ]
  },
  {
   "cell_type": "code",
   "execution_count": 15,
   "id": "35d8c687",
   "metadata": {},
   "outputs": [
    {
     "data": {
      "text/plain": [
       "array([[-0.64781259, -0.98488706,  1.24150764, -1.70556754,  1.73246436,\n",
       "         0.99401789],\n",
       "       [-1.17669316, -0.98488706, -1.17020483, -1.49019326,  0.80779477,\n",
       "        -1.00601811],\n",
       "       [ 0.40994855,  1.54197115,  1.24150764,  1.44037259,  1.01022752,\n",
       "         0.99401789],\n",
       "       [-0.44948237,  0.19039583, -1.17020483, -0.51415778,  1.74281313,\n",
       "        -1.00601811],\n",
       "       [-0.91225287,  1.30691458,  1.24150764, -0.26856786,  0.38372356,\n",
       "         0.99401789]])"
      ]
     },
     "execution_count": 15,
     "metadata": {},
     "output_type": "execute_result"
    }
   ],
   "source": [
    "X_norm = StandardScaler().fit(X).transform(X)\n",
    "X_norm[0:5]"
   ]
  },
  {
   "cell_type": "markdown",
   "id": "463fd883",
   "metadata": {},
   "source": [
    "### Splitting the Dataset\n",
    "The dataset was divided into training and testing sets for model development and evaluation."
   ]
  },
  {
   "cell_type": "code",
   "execution_count": 16,
   "id": "700fe884",
   "metadata": {},
   "outputs": [],
   "source": [
    "X_train, X_test, y_train, y_test = train_test_split(X_norm, y, test_size=0.2, random_state=4)"
   ]
  },
  {
   "cell_type": "markdown",
   "id": "3698a980",
   "metadata": {},
   "source": [
    "# Logistic Regression Model"
   ]
  },
  {
   "cell_type": "code",
   "execution_count": 17,
   "id": "8a306076",
   "metadata": {},
   "outputs": [],
   "source": [
    "#Call Logistic Regression Model\n",
    "LR = LogisticRegression().fit(X_train, y_train)"
   ]
  },
  {
   "cell_type": "code",
   "execution_count": 18,
   "id": "3489d7c4",
   "metadata": {},
   "outputs": [
    {
     "data": {
      "text/plain": [
       "array([0, 0, 0, 1, 1, 1, 1, 1, 1, 1])"
      ]
     },
     "execution_count": 18,
     "metadata": {},
     "output_type": "execute_result"
    }
   ],
   "source": [
    "yhat = LR.predict(X_test)\n",
    "yhat[:10]"
   ]
  },
  {
   "cell_type": "code",
   "execution_count": 19,
   "id": "27f7b870",
   "metadata": {},
   "outputs": [
    {
     "data": {
      "text/plain": [
       "array([[0.50590622, 0.49409378],\n",
       "       [0.57416161, 0.42583839],\n",
       "       [0.54515732, 0.45484268],\n",
       "       [0.45952073, 0.54047927],\n",
       "       [0.41589392, 0.58410608],\n",
       "       [0.4400923 , 0.5599077 ],\n",
       "       [0.45323675, 0.54676325],\n",
       "       [0.43191388, 0.56808612],\n",
       "       [0.44925217, 0.55074783],\n",
       "       [0.48079452, 0.51920548]])"
      ]
     },
     "execution_count": 19,
     "metadata": {},
     "output_type": "execute_result"
    }
   ],
   "source": [
    "yhat_prob = LR.predict_proba(X_test)\n",
    "yhat_prob[:10]"
   ]
  },
  {
   "cell_type": "markdown",
   "id": "577177d8",
   "metadata": {},
   "source": [
    "# Model Prediction Visualization"
   ]
  },
  {
   "cell_type": "code",
   "execution_count": 20,
   "id": "f4029564",
   "metadata": {},
   "outputs": [
    {
     "data": {
      "image/png": "[encoded data removed]",
      "text/plain": [
       "<Figure size 640x480 with 1 Axes>"
      ]
     },
     "metadata": {},
     "output_type": "display_data"
    }
   ],
   "source": [
    "coefficients = pd.Series(LR.coef_[0], index=df.columns[:-1])\n",
    "coefficients.sort_values().plot(kind='barh')\n",
    "plt.title(\"Feature Coefficients in Logistics Regression Churn Model\")\n",
    "plt.xlabel(\"Coefficient Values\")\n",
    "plt.show()"
   ]
  },
  {
   "cell_type": "markdown",
   "id": "60c3c3fe",
   "metadata": {},
   "source": [
    "# Model Evaluation"
   ]
  },
  {
   "cell_type": "code",
   "execution_count": 21,
   "id": "507a1de7",
   "metadata": {},
   "outputs": [
    {
     "data": {
      "text/plain": [
       "0.7025267201970743"
      ]
     },
     "execution_count": 21,
     "metadata": {},
     "output_type": "execute_result"
    }
   ],
   "source": [
    "log_loss(y_test, yhat_prob)"
   ]
  },
  {
   "cell_type": "code",
   "execution_count": null,
   "id": "fbddaa6e",
   "metadata": {},
   "outputs": [],
   "source": []
  }
 ],
 "metadata": {
  "kernelspec": {
   "display_name": "Python 3",
   "language": "python",
   "name": "python3"
  },
  "language_info": {
   "codemirror_mode": {
    "name": "ipython",
    "version": 3
   },
   "file_extension": ".py",
   "mimetype": "text/x-python",
   "name": "python",
   "nbconvert_exporter": "python",
   "pygments_lexer": "ipython3",
   "version": "3.13.7"
  }
 },
 "nbformat": 4,
 "nbformat_minor": 5
}
